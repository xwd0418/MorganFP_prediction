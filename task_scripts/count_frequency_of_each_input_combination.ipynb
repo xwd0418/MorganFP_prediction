{
 "cells": [
  {
   "cell_type": "code",
   "execution_count": 1,
   "metadata": {},
   "outputs": [],
   "source": [
    "import torch, pickle\n",
    "import numpy as np\n",
    "from collections import Counter\n",
    "import os, tqdm\n",
    "from collections import defaultdict\n",
    "from pathlib import Path"
   ]
  },
  {
   "cell_type": "markdown",
   "metadata": {},
   "source": [
    "We want to have (as much as possible) balanced input combinations\n",
    "\n",
    "Step 1. figure out the frequency of each combination \n",
    "\n",
    "Step 2. Decide the rate to drop"
   ]
  },
  {
   "cell_type": "code",
   "execution_count": 2,
   "metadata": {},
   "outputs": [
    {
     "name": "stdout",
     "output_type": "stream",
     "text": [
      "Total 2D molecules: 109694\n",
      "Total 1D molecules: 177662\n",
      "Total molecules: 287356\n"
     ]
    }
   ],
   "source": [
    "'''Total molecules'''\n",
    "path_2d = Path('/workspace/SMILES_dataset/train')\n",
    "path_1d = Path('/workspace/OneD_Only_Dataset/train')\n",
    "hsqc_2d = os.listdir(path_2d/'HSQC')\n",
    "oneD_NMRs = os.listdir(path_1d/'oneD_NMR')\n",
    "print(f'Total 2D molecules: {len(hsqc_2d)}')\n",
    "print(f'Total 1D molecules: {len(oneD_NMRs)}')\n",
    "print(f'Total molecules: {len(hsqc_2d) + len(oneD_NMRs)}')"
   ]
  },
  {
   "cell_type": "code",
   "execution_count": 5,
   "metadata": {},
   "outputs": [
    {
     "name": "stdout",
     "output_type": "stream",
     "text": [
      "Only HSQC: 74888 | HSQC and C: 2809 | HSQC and H: 7 | All 3: 31990 | Empty: 0\n"
     ]
    }
   ],
   "source": [
    "only_hsqc, hsqc_and_c, hsqc_and_h, all_3 = 0, 0, 0, 0\n",
    "empty = 0\n",
    "for i in hsqc_2d:\n",
    "    # if file exists\n",
    "    if os.path.exists(path_2d / 'oneD_NMR'/ i):\n",
    "        c_tensor, h_tensor = torch.load(path_2d / 'oneD_NMR'/ i)\n",
    "        if len(c_tensor) > 0 and len(h_tensor) > 0:\n",
    "            all_3 += 1\n",
    "        elif len(c_tensor) > 0:\n",
    "            hsqc_and_c += 1\n",
    "        elif len(h_tensor) > 0:\n",
    "            hsqc_and_h += 1\n",
    "        else:\n",
    "            empty.append(i)\n",
    "    else:\n",
    "        only_hsqc += 1\n",
    "print(f'Only HSQC: {only_hsqc} | HSQC and C: {hsqc_and_c} | HSQC and H: {hsqc_and_h} | All 3: {all_3} | Empty: {empty}')\n",
    "        "
   ]
  },
  {
   "cell_type": "code",
   "execution_count": 3,
   "metadata": {},
   "outputs": [
    {
     "name": "stdout",
     "output_type": "stream",
     "text": [
      "Only C: 23986 | Only H: 46 | Both C and H: 153630\n",
      "0\n"
     ]
    }
   ],
   "source": [
    "\"\"\"only both 1d\"\"\"\n",
    "only_c, only_h, c_and_h = 0, 0, 0\n",
    "empty = []\n",
    "for i in oneD_NMRs:\n",
    "    c_tensor, h_tensor = torch.load(path_1d / 'oneD_NMR'/ i)\n",
    "    if len(c_tensor) > 0 and len(h_tensor) > 0:\n",
    "        c_and_h += 1\n",
    "    elif len(c_tensor) > 0:\n",
    "        only_c += 1\n",
    "    elif len(h_tensor) > 0:\n",
    "        only_h += 1\n",
    "    else:\n",
    "        empty.append(i)\n",
    "        \n",
    "print(f'Only C: {only_c} | Only H: {only_h} | Both C and H: {c_and_h}')\n",
    "print(len(empty))\n",
    "    "
   ]
  },
  {
   "cell_type": "code",
   "execution_count": 5,
   "metadata": {},
   "outputs": [
    {
     "data": {
      "text/plain": [
       "[]"
      ]
     },
     "execution_count": 5,
     "metadata": {},
     "output_type": "execute_result"
    }
   ],
   "source": []
  },
  {
   "cell_type": "markdown",
   "metadata": {},
   "source": []
  },
  {
   "cell_type": "code",
   "execution_count": null,
   "metadata": {},
   "outputs": [],
   "source": [
    "\n",
    "\n",
    "\n",
    "for split in ['val', 'test']:\n",
    "\n",
    "    all_file_candidates = os.listdir(f'/workspace/SMILES_dataset/{split}/oneD_NMR/')\n",
    "    file_with_all_NMRs = []\n",
    "    for file in all_file_candidates:\n",
    "        c_tensor, h_tensor = torch.load(f'/workspace/SMILES_dataset/{split}/oneD_NMR/{file}')\n",
    "        if len(c_tensor) > 0 and len(h_tensor) > 0:\n",
    "            file_with_all_NMRs.append(file)\n",
    "    print(len(file_with_all_NMRs), len(all_file_candidates))\n"
   ]
  }
 ],
 "metadata": {
  "kernelspec": {
   "display_name": "base",
   "language": "python",
   "name": "python3"
  },
  "language_info": {
   "codemirror_mode": {
    "name": "ipython",
    "version": 3
   },
   "file_extension": ".py",
   "mimetype": "text/x-python",
   "name": "python",
   "nbconvert_exporter": "python",
   "pygments_lexer": "ipython3",
   "version": "3.10.13"
  }
 },
 "nbformat": 4,
 "nbformat_minor": 2
}
