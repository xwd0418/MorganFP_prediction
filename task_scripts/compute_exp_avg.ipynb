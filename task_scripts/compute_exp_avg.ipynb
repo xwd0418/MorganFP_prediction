{
 "cells": [
  {
   "cell_type": "code",
   "execution_count": 1,
   "metadata": {},
   "outputs": [],
   "source": [
    "import os, pickle, sys, torch, numpy as np\n",
    "from collections import defaultdict\n",
    "# paths  \n",
    "# table_path = '/root/gurusmart/MorganFP_prediction/reproduce_previous_works/all_2d1d_datasets/entropy_radius_exps_on_HSQC'\n",
    "\n",
    "print_keys = [\n",
    "    \"test/mean_rank_1\",\n",
    "    # \"test/mean_rank_5\",\n",
    "    # \"test/mean_mean_rank\",\n",
    "    \"test/mean_cos\",\n",
    "    \"test/mean_f1\", \n",
    "]\n"
   ]
  },
  {
   "cell_type": "code",
   "execution_count": 2,
   "metadata": {},
   "outputs": [],
   "source": [
    "exp_name_to_key_to_results = defaultdict(lambda: defaultdict(list))\n",
    "# for input_type in ['1d', \"all_info\", \"HSQC_and_C\", \"HSQC_and_H\", \"only_C\", \"only_H\", \"only_HSQC\"]:\n",
    "# for input_type in ['1d']:    \n",
    "for input_type in ['all_info']:    \n",
    "  \n",
    "    # table_path = f'/root/gurusmart/MorganFP_prediction/reproduce_previous_works/db_specific_FP_with_entropy/entropy_radius_exps_{input_type}'\n",
    "    table_path = '/root/gurusmart/MorganFP_prediction/reproduce_previous_works/fix_combining_dataset_load_mfp_bug/train_on_all_data_possible'\n",
    "    table_path = '/root/gurusmart/MorganFP_prediction/reproduce_previous_works/puuting_h_in_the_middle/train_on_all_data_possible'\n",
    "    # table_path = '/root/gurusmart/MorganFP_prediction/reproduce_previous_works/weird_H_and_tautomer_cleaned/train_on_all_data_possible_hsqc_folderset_code'\n",
    "    table_path = '/root/gurusmart/MorganFP_prediction/reproduce_previous_works/stable_argsort/train_on_all_data_possible'\n",
    "\n",
    "    all_exps = os.listdir(table_path)\n",
    "    # load pickles \n",
    "    from collections import defaultdict\n",
    "    for exp in all_exps:\n",
    "        if 'trial' in exp:\n",
    "            trial_spelling = \"trial\"\n",
    "        elif 'trail' in exp:\n",
    "            trial_spelling = \"trail\"\n",
    "           \n",
    "        try:     \n",
    "            # print(exp)\n",
    "            with open(f'{table_path}/{exp}/test_result.pkl', 'rb') as f:\n",
    "                result = pickle.load(f)[0]\n",
    "                \n",
    "                for key in print_keys:\n",
    "                    if key not in result:\n",
    "                        continue\n",
    "                    exp_name_to_key_to_results[\"_\".join(exp.split(trial_spelling)[:-1])][key].append(result[key])\n",
    "                    # exp_name_to_key_to_results[exp][key].append(result[key])\n",
    "                    # print(key, result[key])\n",
    "            # print(exp_name_to_key_to_results)\n",
    "        except Exception as e:\n",
    "            print(f'{table_path}/{exp}/test_result.pkl')            \n",
    "    \n",
    "# exp_name_to_key_to_results\n"
   ]
  },
  {
   "cell_type": "code",
   "execution_count": 3,
   "metadata": {},
   "outputs": [],
   "source": [
    "# exp_name_to_key_to_results"
   ]
  },
  {
   "cell_type": "code",
   "execution_count": 4,
   "metadata": {},
   "outputs": [],
   "source": [
    "avg_results = {}\n",
    "for exp_name, key_to_results in exp_name_to_key_to_results.items():\n",
    "    avg_results[exp_name] = {key: np.mean(val) for key, val in key_to_results.items()}"
   ]
  },
  {
   "cell_type": "code",
   "execution_count": 5,
   "metadata": {},
   "outputs": [],
   "source": [
    "# sort based on dict key \n",
    "def get_sort_key(item):\n",
    "    if ((item[0].split(\"R0_to_R\")[-1]).split(\"_\")[0]).isdecimal():\n",
    "        return int((item[0].split(\"R0_to_R\")[-1]).split(\"_\")[0])\n",
    "    \n",
    "    else:\n",
    "        return float('inf')\n",
    "\n",
    "# # puttin same modality toghether\n",
    "# def get_sort_key(x):\n",
    "#     return (\"_\".join(x[0].split(\"_\")[3:]))\n",
    "\n",
    "avg_results = dict(sorted(avg_results.items(),key=get_sort_key ))"
   ]
  },
  {
   "cell_type": "code",
   "execution_count": 6,
   "metadata": {},
   "outputs": [
    {
     "data": {
      "text/plain": [
       "{'only_hsqc_': {'test/mean_rank_1': np.float64(0.8907606403032938),\n",
       "  'test/mean_cos': np.float64(0.8381503621737162),\n",
       "  'test/mean_f1': np.float64(0.8487166166305542)},\n",
       " 'only_1d_': {'test/mean_rank_1': np.float64(0.956542948881785),\n",
       "  'test/mean_cos': np.float64(0.9074298540751139),\n",
       "  'test/mean_f1': np.float64(0.914314885934194)},\n",
       " 'HSQC_and_C_': {'test/mean_rank_1': np.float64(0.9338107705116272),\n",
       "  'test/mean_cos': np.float64(0.8539090752601624),\n",
       "  'test/mean_f1': np.float64(0.8631412386894226)},\n",
       " 'only_c_': {'test/mean_rank_1': np.float64(0.9457193811734518),\n",
       "  'test/mean_cos': np.float64(0.8822630445162455),\n",
       "  'test/mean_f1': np.float64(0.8928653200467428)},\n",
       " 'HSQC_and_H_': {'test/mean_rank_1': np.float64(0.8607313434282938),\n",
       "  'test/mean_cos': np.float64(0.8145809570948283),\n",
       "  'test/mean_f1': np.float64(0.8255233764648438)},\n",
       " 'only_h_': {'test/mean_rank_1': np.float64(0.7550184528032938),\n",
       "  'test/mean_cos': np.float64(0.7885106404622396),\n",
       "  'test/mean_f1': np.float64(0.7966420849164327)}}"
      ]
     },
     "execution_count": 6,
     "metadata": {},
     "output_type": "execute_result"
    }
   ],
   "source": [
    "# for r in avg_results.items():\n",
    "#     display(r)\n",
    "    # print()\n",
    "avg_results"
   ]
  },
  {
   "cell_type": "code",
   "execution_count": 7,
   "metadata": {},
   "outputs": [
    {
     "name": "stdout",
     "output_type": "stream",
     "text": [
      "\\begin{table}[h]\n",
      "\\centering\n",
      "\\begin{tabular}{|c|c|c|c|c|c|}\n",
      "\\hline\n",
      "Model Input & Rank-1$\\uparrow$ & Rank-5$\\uparrow$ & Mean Rank$\\downarrow$ & Cosine Sim$\\uparrow$ & F1-score$\\uparrow$\\\\\n",
      "\\hline\n",
      "only hsqc  & 89.08\\% & 0.8382 & 0.8487 \\\\\n",
      "\\hline\n",
      "only 1d  & 95.65\\% & 0.9074 & 0.9143 \\\\\n",
      "\\hline\n",
      "HSQC and C & 93.38\\% & 0.8539 & 0.8631 \\\\\n",
      "\\hline\n",
      "only c  & 94.57\\% & 0.8823 & 0.8929 \\\\\n",
      "\\hline\n",
      "HSQC and H & 86.07\\% & 0.8146 & 0.8255 \\\\\n",
      "\\hline\n",
      "only h  & 75.50\\% & 0.7885 & 0.7966 \\\\\n",
      "\\hline\n",
      "\\end{tabular}\n",
      "\\caption{Performance of various MFs whenonly h NMRs are available}\n",
      "\\label{table_name}\n",
      "\\end{table}\n"
     ]
    }
   ],
   "source": [
    "# print in latex format\n",
    "print (\"\\\\begin{table}[h]\")\n",
    "print(\"\\centering\")\n",
    "print('\\\\begin{tabular}{|c|c|c|c|c|c|}')\n",
    "print(\"\\hline\")\n",
    "print(\"Model Input & Rank-1$\\\\uparrow$ & Rank-5$\\\\uparrow$ & Mean Rank$\\\\downarrow$ & Cosine Sim$\\\\uparrow$ & F1-score$\\\\uparrow$\\\\\\\\\")\n",
    "print(\"\\hline\")\n",
    "\n",
    "for exp_name, key_to_results in avg_results.items():\n",
    "    name = exp_name\n",
    "    if name[:2]==\"FP\":\n",
    "        name = \"R\"+name.split(\" \")[-1][-2]+\" FP\"\n",
    "    print(\" \".join(name.split(\"_\")[:3]) , end=\"\")\n",
    "    for key, val in key_to_results.items():\n",
    "        if key in [\"test/mean_rank_1\", \"test/mean_rank_5\"]:\n",
    "            print(f' & {val*100:.2f}\\%', end=\"\")\n",
    "        elif key in [\"test/mean_mean_rank\"]:\n",
    "            print(f' & {val+1:.2f}', end=\"\")\n",
    "        else:\n",
    "            print(f' & {val:.4f}', end=\"\")\n",
    "    print(\" \\\\\\\\\")\n",
    "    print(\"\\hline\")\n",
    "    \n",
    "print('\\end{tabular}')\n",
    "print(\"\\caption{Performance of various MFs when\" + f'{exp_name.split(\"FP\")[-1].replace(\"_\", \" \")}' + \"NMRs are available}\")\n",
    "# print(\"\\caption{which entropy-based FP to use when\"+f'{exp_name.split(\"FP\")[-1].replace(\"_\", \" \")}NMR' +\" is available}\")\n",
    "print('\\label{table_name}')\n",
    "print('\\end{table}')"
   ]
  },
  {
   "cell_type": "code",
   "execution_count": 8,
   "metadata": {},
   "outputs": [
    {
     "data": {
      "text/plain": [
       "'only_h_'"
      ]
     },
     "execution_count": 8,
     "metadata": {},
     "output_type": "execute_result"
    }
   ],
   "source": [
    "exp_name"
   ]
  },
  {
   "cell_type": "markdown",
   "metadata": {},
   "source": [
    "not avg here\n",
    "just looking at multi vs single clsifer"
   ]
  },
  {
   "cell_type": "code",
   "execution_count": 9,
   "metadata": {},
   "outputs": [],
   "source": [
    "import os, pickle, sys, torch, numpy as np\n",
    "\n",
    "\n",
    "\n",
    "# paths  \n",
    "table_path = '/root/gurusmart/MorganFP_prediction/reproduce_previous_works/average_3/model_sizes'\n",
    "\n",
    "metric = [\n",
    "    \"mean_rank_1\",\n",
    "    # \"mean_rank_5\",\n",
    "    # \"mean_mean_rank\",\n",
    "    \"mean_cos\",\n",
    "    # \"mean_f1\", \n",
    "]\n",
    "\n",
    "NMRs  = [\"all_inputs\", \"HSQC_H_NMR\", \"HSQC_C_NMR\", \"only_hsqc\" , \"only_1d\",\"only_C_NMR\", \"only_H_NMR\"]\n",
    "\n",
    "all_keys = [ \"test_\"+m+\"_\"+nmr for nmr in NMRs for m in metric]\n"
   ]
  },
  {
   "cell_type": "code",
   "execution_count": 10,
   "metadata": {},
   "outputs": [
    {
     "data": {
      "text/plain": [
       "['test_mean_rank_1_all_inputs',\n",
       " 'test_mean_cos_all_inputs',\n",
       " 'test_mean_rank_1_HSQC_H_NMR',\n",
       " 'test_mean_cos_HSQC_H_NMR',\n",
       " 'test_mean_rank_1_HSQC_C_NMR',\n",
       " 'test_mean_cos_HSQC_C_NMR',\n",
       " 'test_mean_rank_1_only_hsqc',\n",
       " 'test_mean_cos_only_hsqc',\n",
       " 'test_mean_rank_1_only_1d',\n",
       " 'test_mean_cos_only_1d',\n",
       " 'test_mean_rank_1_only_C_NMR',\n",
       " 'test_mean_cos_only_C_NMR',\n",
       " 'test_mean_rank_1_only_H_NMR',\n",
       " 'test_mean_cos_only_H_NMR']"
      ]
     },
     "execution_count": 10,
     "metadata": {},
     "output_type": "execute_result"
    }
   ],
   "source": [
    "all_keys"
   ]
  },
  {
   "cell_type": "code",
   "execution_count": 11,
   "metadata": {},
   "outputs": [],
   "source": [
    "\n",
    "# load pickles \n",
    "from collections import defaultdict\n",
    "\n",
    "\n"
   ]
  },
  {
   "cell_type": "code",
   "execution_count": null,
   "metadata": {},
   "outputs": [],
   "source": []
  },
  {
   "cell_type": "code",
   "execution_count": 12,
   "metadata": {},
   "outputs": [
    {
     "ename": "FileNotFoundError",
     "evalue": "[Errno 2] No such file or directory: '/root/gurusmart/MorganFP_prediction/reproduce_previous_works/average_3/model_sizes'",
     "output_type": "error",
     "traceback": [
      "\u001b[0;31m---------------------------------------------------------------------------\u001b[0m",
      "\u001b[0;31mFileNotFoundError\u001b[0m                         Traceback (most recent call last)",
      "Cell \u001b[0;32mIn[12], line 39\u001b[0m\n\u001b[1;32m     23\u001b[0m     display(avg_results)\n\u001b[1;32m     24\u001b[0m     \u001b[38;5;66;03m# for exp_name, key_to_results in avg_results.items():\u001b[39;00m\n\u001b[1;32m     25\u001b[0m     \u001b[38;5;66;03m#     name = exp_name\u001b[39;00m\n\u001b[1;32m     26\u001b[0m     \n\u001b[0;32m   (...)\u001b[0m\n\u001b[1;32m     35\u001b[0m     \u001b[38;5;66;03m#     print(\" \\\\\\\\\")\u001b[39;00m\n\u001b[1;32m     36\u001b[0m     \u001b[38;5;66;03m#     print(\"\\hline\")\u001b[39;00m\n\u001b[0;32m---> 39\u001b[0m \u001b[43mshow_result\u001b[49m\u001b[43m(\u001b[49m\u001b[43m)\u001b[49m          \n",
      "Cell \u001b[0;32mIn[12], line 4\u001b[0m, in \u001b[0;36mshow_result\u001b[0;34m(filter_by)\u001b[0m\n\u001b[1;32m      1\u001b[0m \u001b[38;5;28;01mdef\u001b[39;00m \u001b[38;5;21mshow_result\u001b[39m(filter_by\u001b[38;5;241m=\u001b[39m\u001b[38;5;124m\"\u001b[39m\u001b[38;5;124mmulti\u001b[39m\u001b[38;5;124m\"\u001b[39m):\n\u001b[1;32m      3\u001b[0m     exp_name_to_key_to_results \u001b[38;5;241m=\u001b[39m defaultdict(\u001b[38;5;28;01mlambda\u001b[39;00m: defaultdict(\u001b[38;5;28mlist\u001b[39m))\n\u001b[0;32m----> 4\u001b[0m     all_exps \u001b[38;5;241m=\u001b[39m \u001b[43mos\u001b[49m\u001b[38;5;241;43m.\u001b[39;49m\u001b[43mlistdir\u001b[49m\u001b[43m(\u001b[49m\u001b[43mtable_path\u001b[49m\u001b[43m)\u001b[49m\n\u001b[1;32m      5\u001b[0m     all_exps \u001b[38;5;241m=\u001b[39m \u001b[38;5;28mlist\u001b[39m(\u001b[38;5;28mfilter\u001b[39m(\u001b[38;5;28;01mlambda\u001b[39;00m x: filter_by \u001b[38;5;129;01min\u001b[39;00m x, all_exps))\n\u001b[1;32m      7\u001b[0m     \u001b[38;5;28;01mfor\u001b[39;00m exp \u001b[38;5;129;01min\u001b[39;00m all_exps:\n\u001b[1;32m      8\u001b[0m         \u001b[38;5;66;03m# print(exp)\u001b[39;00m\n",
      "\u001b[0;31mFileNotFoundError\u001b[0m: [Errno 2] No such file or directory: '/root/gurusmart/MorganFP_prediction/reproduce_previous_works/average_3/model_sizes'"
     ]
    }
   ],
   "source": [
    "def show_result(filter_by=\"multi\"):\n",
    "    \n",
    "    exp_name_to_key_to_results = defaultdict(lambda: defaultdict(list))\n",
    "    all_exps = os.listdir(table_path)\n",
    "    all_exps = list(filter(lambda x: filter_by in x, all_exps))\n",
    "\n",
    "    for exp in all_exps:\n",
    "        # print(exp)\n",
    "        with open(f'{table_path}/{exp}/test_result.pkl', 'rb') as f:\n",
    "            result = pickle.load(f)[0]\n",
    "            # print(result)\n",
    "            # break\n",
    "            for key in all_keys:\n",
    "                if key not in result:\n",
    "                    continue\n",
    "                exp_name_to_key_to_results[\"_\".join(exp.split(\"_\")[:-1])][key].append(result[key])\n",
    "                # print(key, result[key])\n",
    "\n",
    "    avg_results = {}\n",
    "    for exp_name, key_to_results in exp_name_to_key_to_results.items():\n",
    "        avg_results[exp_name] = {key: np.mean(val) for key, val in key_to_results.items()}\n",
    "    avg_results = dict(sorted(avg_results.items()))\n",
    "    display(avg_results)\n",
    "    # for exp_name, key_to_results in avg_results.items():\n",
    "    #     name = exp_name\n",
    "    \n",
    "    #     print(f'{name.replace(\"_\", \" \")}', end=\"\")\n",
    "    #     for key, val in key_to_results.items():\n",
    "    #         if key in [\"test/mean_rank_1\", \"test/mean_rank_5\"]:\n",
    "    #             print(f' & {val*100:.2f}\\%', end=\"\")\n",
    "    #         elif key in [\"test/mean_mean_rank\"]:\n",
    "    #             print(f' & {val:.2f}', end=\"\")\n",
    "    #         else:\n",
    "    #             print(f' & {val:.4f}', end=\"\")\n",
    "    #     print(\" \\\\\\\\\")\n",
    "    #     print(\"\\hline\")\n",
    "\n",
    "\n",
    "show_result()          "
   ]
  },
  {
   "cell_type": "code",
   "execution_count": null,
   "metadata": {},
   "outputs": [
    {
     "data": {
      "text/plain": [
       "{'flexible_384': {'test_mean_rank_1_all_inputs': 0.9239176114400228,\n",
       "  'test_mean_cos_all_inputs': 0.849866251150767,\n",
       "  'test_mean_rank_1_HSQC_H_NMR': 0.8838695685068766,\n",
       "  'test_mean_cos_HSQC_H_NMR': 0.8238423665364584,\n",
       "  'test_mean_rank_1_HSQC_C_NMR': 0.9105113744735718,\n",
       "  'test_mean_cos_HSQC_C_NMR': 0.8393414616584778,\n",
       "  'test_mean_rank_1_only_hsqc': 0.7970621983210245,\n",
       "  'test_mean_cos_only_hsqc': 0.7732182741165161,\n",
       "  'test_mean_rank_1_only_1d': 0.8979419867197672,\n",
       "  'test_mean_cos_only_1d': 0.8331032395362854,\n",
       "  'test_mean_rank_1_only_C_NMR': 0.8609496156374613,\n",
       "  'test_mean_cos_only_C_NMR': 0.8099772930145264,\n",
       "  'test_mean_rank_1_only_H_NMR': 0.7571683526039124,\n",
       "  'test_mean_cos_only_H_NMR': 0.7691749930381775}}"
      ]
     },
     "metadata": {},
     "output_type": "display_data"
    }
   ],
   "source": [
    "show_result(\"flexible_384_t\")          "
   ]
  },
  {
   "cell_type": "code",
   "execution_count": null,
   "metadata": {},
   "outputs": [
    {
     "ename": "NameError",
     "evalue": "name 'single_dict' is not defined",
     "output_type": "error",
     "traceback": [
      "\u001b[0;31m---------------------------------------------------------------------------\u001b[0m",
      "\u001b[0;31mNameError\u001b[0m                                 Traceback (most recent call last)",
      "Cell \u001b[0;32mIn[14], line 4\u001b[0m\n\u001b[1;32m      1\u001b[0m nmr_to_metric_to_value_single \u001b[38;5;241m=\u001b[39m defaultdict(\u001b[38;5;28mdict\u001b[39m)\n\u001b[0;32m----> 4\u001b[0m \u001b[38;5;28;01mfor\u001b[39;00m i, (k,v) \u001b[38;5;129;01min\u001b[39;00m \u001b[38;5;28menumerate\u001b[39m(\u001b[43msingle_dict\u001b[49m\u001b[38;5;241m.\u001b[39mitems()):\n\u001b[1;32m      6\u001b[0m     nmr_type \u001b[38;5;241m=\u001b[39m NMR_types[i\u001b[38;5;241m/\u001b[39m\u001b[38;5;241m/\u001b[39m\u001b[38;5;241m14\u001b[39m]\n\u001b[1;32m      7\u001b[0m     \u001b[38;5;66;03m# nmr_type = \" \".join(nmr_type.split(\"_\")[2:])\u001b[39;00m\n",
      "\u001b[0;31mNameError\u001b[0m: name 'single_dict' is not defined"
     ]
    }
   ],
   "source": [
    "nmr_to_metric_to_value_single = defaultdict(dict)\n",
    "\n",
    "\n",
    "for i, (k,v) in enumerate(single_dict.items()):\n",
    "    \n",
    "    nmr_type = NMR_types[i//14]\n",
    "    # nmr_type = \" \".join(nmr_type.split(\"_\")[2:])\n",
    "    metric = i%14\n",
    "    if metric in [4,6, 10, 11, 12]:\n",
    "        nmr_to_metric_to_value_single[nmr_type][k] = v\n",
    "    else:\n",
    "        continue\n"
   ]
  },
  {
   "cell_type": "code",
   "execution_count": null,
   "metadata": {},
   "outputs": [],
   "source": [
    "# nmr_to_metric_to_value_multi = defaultdict(dict)\n",
    "\n",
    "\n",
    "# for i, (k,v) in enumerate(multi_dict.items()):\n",
    "    \n",
    "#     nmr_type = NMR_types[i//14]\n",
    "#     nmr_type = \" \".join(nmr_type.split(\"_\")[2:])\n",
    "#     metric = i%14\n",
    "#     if metric in [4,6, 10, 11, 12]:\n",
    "#         nmr_to_metric_to_value_multi[nmr_type][k] = v\n",
    "#     else:\n",
    "#         continue\n"
   ]
  },
  {
   "cell_type": "code",
   "execution_count": null,
   "metadata": {},
   "outputs": [
    {
     "data": {
      "text/plain": [
       "defaultdict(dict,\n",
       "            {'all_inputs': {'test_mean_cos_all_inputs': 0.8479413390159607,\n",
       "              'test_mean_f1_all_inputs': 0.8588761687278748,\n",
       "              'test_mean_mean_rank_all_inputs': 2.579009771347046,\n",
       "              'test_mean_rank_1_all_inputs': 0.5099216103553772,\n",
       "              'test_mean_rank_5_all_inputs': 0.9658825397491455},\n",
       "             'HSQC_H_NMR': {'test_mean_cos_HSQC_H_NMR': 0.8220083713531494,\n",
       "              'test_mean_f1_HSQC_H_NMR': 0.8360926508903503,\n",
       "              'test_mean_mean_rank_HSQC_H_NMR': 7.510948657989502,\n",
       "              'test_mean_rank_1_HSQC_H_NMR': 0.482708215713501,\n",
       "              'test_mean_rank_5_HSQC_H_NMR': 0.9477534294128418},\n",
       "             'HSQC_C_NMR': {'test_mean_cos_HSQC_C_NMR': 0.837510883808136,\n",
       "              'test_mean_f1_HSQC_C_NMR': 0.8496221899986267,\n",
       "              'test_mean_mean_rank_HSQC_C_NMR': 3.8844082355499268,\n",
       "              'test_mean_rank_1_HSQC_C_NMR': 0.5028753876686096,\n",
       "              'test_mean_rank_5_HSQC_C_NMR': 0.9647924304008484},\n",
       "             'only_hsqc': {'test_mean_cos_only_hsqc': 0.7785130143165588,\n",
       "              'test_mean_f1_only_hsqc': 0.7948618531227112,\n",
       "              'test_mean_mean_rank_only_hsqc': 16.03675651550293,\n",
       "              'test_mean_rank_1_only_hsqc': 0.44241341948509216,\n",
       "              'test_mean_rank_5_only_hsqc': 0.8945984244346619},\n",
       "             'only_1d': {'test_mean_cos_only_1d': 0.8278093934059143,\n",
       "              'test_mean_f1_only_1d': 0.8408730626106262,\n",
       "              'test_mean_mean_rank_only_1d': 6.189798831939697,\n",
       "              'test_mean_rank_1_only_1d': 0.48539403080940247,\n",
       "              'test_mean_rank_5_only_1d': 0.9475322365760803},\n",
       "             'only_H_NMR': {'test_mean_cos_only_H_NMR': 0.7601735591888428,\n",
       "              'test_mean_f1_only_H_NMR': 0.7784426808357239,\n",
       "              'test_mean_mean_rank_only_H_NMR': 36.97411346435547,\n",
       "              'test_mean_rank_1_only_H_NMR': 0.3767615556716919,\n",
       "              'test_mean_rank_5_only_H_NMR': 0.8494375348091125},\n",
       "             'only_C_NMR': {'test_mean_cos_only_C_NMR': 0.8033351302146912,\n",
       "              'test_mean_f1_only_C_NMR': 0.819067120552063,\n",
       "              'test_mean_mean_rank_only_C_NMR': 14.62911605834961,\n",
       "              'test_mean_rank_1_only_C_NMR': 0.46344950795173645,\n",
       "              'test_mean_rank_5_only_C_NMR': 0.9217091202735901}})"
      ]
     },
     "execution_count": 52,
     "metadata": {},
     "output_type": "execute_result"
    }
   ],
   "source": [
    "# nmr_to_metric_to_value_single"
   ]
  },
  {
   "cell_type": "code",
   "execution_count": null,
   "metadata": {},
   "outputs": [
    {
     "name": "stdout",
     "output_type": "stream",
     "text": [
      "all inputs single classifier\n",
      " & 50.99\\% & 96.59\\% & 2.58 & 0.8479 & 0.8589\\hline\n",
      "all inputs multi classifier\n",
      "\\hline\n",
      "HSQC H NMR single classifier\n",
      " & 48.27\\% & 94.78\\% & 7.51 & 0.8220 & 0.8361\\hline\n",
      "HSQC H NMR multi classifier\n",
      "\\hline\n",
      "HSQC C NMR single classifier\n",
      " & 50.29\\% & 96.48\\% & 3.88 & 0.8375 & 0.8496\\hline\n",
      "HSQC C NMR multi classifier\n",
      "\\hline\n",
      "only hsqc single classifier\n",
      " & 44.24\\% & 89.46\\% & 16.04 & 0.7785 & 0.7949\\hline\n",
      "only hsqc multi classifier\n",
      "\\hline\n",
      "only 1d single classifier\n",
      " & 48.54\\% & 94.75\\% & 6.19 & 0.8278 & 0.8409\\hline\n",
      "only 1d multi classifier\n",
      "\\hline\n",
      "only H NMR single classifier\n",
      " & 37.68\\% & 84.94\\% & 36.97 & 0.7602 & 0.7784\\hline\n",
      "only H NMR multi classifier\n",
      "\\hline\n",
      "only C NMR single classifier\n",
      " & 46.34\\% & 92.17\\% & 14.63 & 0.8033 & 0.8191\\hline\n",
      "only C NMR multi classifier\n",
      "\\hline\n"
     ]
    }
   ],
   "source": [
    "# latex table\n",
    "for k,v in nmr_to_metric_to_value_single.items():\n",
    "    print(k.replace(\"_\", \" \")+ \" single classifier\")\n",
    "    for print_k in print_keys:\n",
    "        for metric, val in v.items():\n",
    "            if print_k in metric:\n",
    "                if print_k in [\"mean_rank_1\", \"mean_rank_5\"]:\n",
    "                    print(f' & {val*100:.2f}\\%', end=\"\")\n",
    "                elif print_k in [\"mean_mean_rank\"]:\n",
    "                    print(f' & {val:.2f}', end=\"\")\n",
    "                else:\n",
    "                    print(f' & {val:.4f}', end=\"\")\n",
    "    print(\"\\\\hline\")\n",
    "\n",
    "    print(k.replace(\"_\", \" \")+\" multi classifier\")\n",
    "    v_multi = nmr_to_metric_to_value_multi[k]\n",
    "    for print_k in print_keys:                \n",
    "        for metric, val in v_multi.items():\n",
    "            if print_k in metric:\n",
    "                if print_k in [\"mean_rank_1\", \"mean_rank_5\"]:\n",
    "                    print(f' & {val*100:.2f}\\%', end=\"\")\n",
    "                elif print_k in [\"mean_mean_rank\"]:\n",
    "                    print(f' & {val:.2f}', end=\"\")\n",
    "                else:\n",
    "                    print(f' & {val:.4f}', end=\"\")\n",
    "    print(\"\\\\hline\")\n",
    "   \n",
    "    "
   ]
  },
  {
   "cell_type": "code",
   "execution_count": null,
   "metadata": {},
   "outputs": [
    {
     "data": {
      "text/plain": [
       "defaultdict(dict,\n",
       "            {'': {'test_mean_cos_all_inputs': 0.8487057685852051,\n",
       "              'test_mean_f1_all_inputs': 0.858889639377594,\n",
       "              'test_mean_mean_rank_all_inputs': 2.728726863861084,\n",
       "              'test_mean_rank_1_all_inputs': 0.5132314562797546,\n",
       "              'test_mean_rank_5_all_inputs': 0.9662854075431824,\n",
       "              'test_mean_cos_only_hsqc': 0.7571645975112915,\n",
       "              'test_mean_f1_only_hsqc': 0.7718337774276733,\n",
       "              'test_mean_mean_rank_only_hsqc': 16.730077743530273,\n",
       "              'test_mean_rank_1_only_hsqc': 0.4196631610393524,\n",
       "              'test_mean_rank_5_only_hsqc': 0.8786495327949524,\n",
       "              'test_mean_cos_only_1d': 0.8341397047042847,\n",
       "              'test_mean_f1_only_1d': 0.8465748429298401,\n",
       "              'test_mean_mean_rank_only_1d': 5.494770526885986,\n",
       "              'test_mean_rank_1_only_1d': 0.4977881610393524,\n",
       "              'test_mean_rank_5_only_1d': 0.9539307355880737},\n",
       "             'NMR': {'test_mean_cos_HSQC_H_NMR': 0.8195066452026367,\n",
       "              'test_mean_f1_HSQC_H_NMR': 0.8318744897842407,\n",
       "              'test_mean_mean_rank_HSQC_H_NMR': 5.896944522857666,\n",
       "              'test_mean_rank_1_HSQC_H_NMR': 0.4813574254512787,\n",
       "              'test_mean_rank_5_HSQC_H_NMR': 0.9468449950218201,\n",
       "              'test_mean_cos_HSQC_C_NMR': 0.8365658521652222,\n",
       "              'test_mean_f1_HSQC_C_NMR': 0.8477329611778259,\n",
       "              'test_mean_mean_rank_HSQC_C_NMR': 4.54380989074707,\n",
       "              'test_mean_rank_1_HSQC_C_NMR': 0.5059640407562256,\n",
       "              'test_mean_rank_5_HSQC_C_NMR': 0.9585123658180237,\n",
       "              'test_mean_cos_only_H_NMR': 0.7661985158920288,\n",
       "              'test_mean_f1_only_H_NMR': 0.7835620045661926,\n",
       "              'test_mean_mean_rank_only_H_NMR': 38.77913284301758,\n",
       "              'test_mean_rank_1_only_H_NMR': 0.39295533299446106,\n",
       "              'test_mean_rank_5_only_H_NMR': 0.871705949306488,\n",
       "              'test_mean_cos_only_C_NMR': 0.8115838170051575,\n",
       "              'test_mean_f1_only_C_NMR': 0.8267344832420349,\n",
       "              'test_mean_mean_rank_only_C_NMR': 15.54244327545166,\n",
       "              'test_mean_rank_1_only_C_NMR': 0.47925618290901184,\n",
       "              'test_mean_rank_5_only_C_NMR': 0.9318045377731323}})"
      ]
     },
     "execution_count": 53,
     "metadata": {},
     "output_type": "execute_result"
    }
   ],
   "source": [
    "nmr_to_metric_to_value_multi"
   ]
  },
  {
   "cell_type": "code",
   "execution_count": null,
   "metadata": {},
   "outputs": [],
   "source": []
  },
  {
   "cell_type": "code",
   "execution_count": null,
   "metadata": {},
   "outputs": [],
   "source": []
  },
  {
   "cell_type": "code",
   "execution_count": null,
   "metadata": {},
   "outputs": [
    {
     "name": "stdout",
     "output_type": "stream",
     "text": [
      "train 31990\n",
      "val 3986\n",
      "test 3930\n"
     ]
    }
   ],
   "source": [
    "import pickle\n",
    "for split in ['train','val','test']:\n",
    "    path = f\"/root/gurusmart/MorganFP_prediction/reproduce_previous_works/smart4.5/datasets/{split}_indices_of_full_info_NMRs.pkl\"\n",
    "    indices = pickle.load(open(path, 'rb'))\n",
    "    print(split, len(indices))"
   ]
  },
  {
   "cell_type": "code",
   "execution_count": null,
   "metadata": {},
   "outputs": [],
   "source": []
  }
 ],
 "metadata": {
  "kernelspec": {
   "display_name": "base",
   "language": "python",
   "name": "python3"
  },
  "language_info": {
   "codemirror_mode": {
    "name": "ipython",
    "version": 3
   },
   "file_extension": ".py",
   "mimetype": "text/x-python",
   "name": "python",
   "nbconvert_exporter": "python",
   "pygments_lexer": "ipython3",
   "version": "3.11.10"
  }
 },
 "nbformat": 4,
 "nbformat_minor": 2
}
